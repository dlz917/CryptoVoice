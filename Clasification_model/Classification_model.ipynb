{
 "cells": [
  {
   "cell_type": "markdown",
   "metadata": {},
   "source": [
    "## PREPARAR DATA NO CRYPTO"
   ]
  },
  {
   "cell_type": "code",
   "execution_count": 11,
   "metadata": {},
   "outputs": [
    {
     "name": "stdout",
     "output_type": "stream",
     "text": [
      "¡Archivo filtrado y guardado como 'model_crypto_data.csv' con éxito!\n"
     ]
    }
   ],
   "source": [
    "import pandas as pd\n",
    "\n",
    "# Leer los tres archivos CSV\n",
    "df1 = pd.read_csv('nytimes_2009_3.csv')\n",
    "df2 = pd.read_csv('nytimes_2010_5.csv')\n",
    "df3 = pd.read_csv('nytimes_2009_6.csv')\n",
    "\n",
    "# Concatenar los DataFrames\n",
    "df_combinado = pd.concat([df1, df2, df3], ignore_index=True)\n",
    "\n",
    "\n",
    "\n",
    "# Guardar el DataFrame filtrado en un nuevo archivo CSV llamado 'model_crypto_data.csv'\n",
    "df_combinado.to_csv('model_crypto_no_data.csv', index=False)\n",
    "\n",
    "print(\"¡Archivo filtrado y guardado como 'model_crypto_data.csv' con éxito!\")\n"
   ]
  },
  {
   "cell_type": "markdown",
   "metadata": {},
   "source": [
    "## PREPARAR DATA CRYPTO"
   ]
  },
  {
   "cell_type": "code",
   "execution_count": 12,
   "metadata": {},
   "outputs": [],
   "source": [
    "import pandas as pd\n",
    "import json\n",
    "\n",
    "# Cargar datos desde un archivo JSON usando UTF-8\n",
    "with open('news_2023_bitcoin_cointelegraph.json', 'r', encoding='utf-8') as file:\n",
    "    data = json.load(file)\n",
    "\n",
    "# Convertir la lista de diccionarios en un DataFrame\n",
    "df = pd.DataFrame(data)\n",
    "\n",
    "# Remover las columnas 'link' y 'query'\n",
    "df = df.drop(columns=['link', 'query'])\n",
    "\n",
    "# Guardar el DataFrame como un archivo CSV\n",
    "df.to_csv('model_crypto_data.csv', index=False)\n"
   ]
  },
  {
   "cell_type": "markdown",
   "metadata": {},
   "source": [
    "## FUSIONAR DF Y AÑADIR LABELS"
   ]
  },
  {
   "cell_type": "code",
   "execution_count": 17,
   "metadata": {},
   "outputs": [
    {
     "name": "stdout",
     "output_type": "stream",
     "text": [
      "                                                text  label\n",
      "0            Legal Battles Await Olmert as Term Ends      0\n",
      "1  Despite the Recession, Neediest Cases Fund Col...      0\n",
      "2  Raising a Daughter to Thrive on Her Own, Then ...      0\n",
      "3  In a Life of Hard Knocks, a Mother With an Iro...      0\n",
      "4                              Beware the False Dawn      0\n"
     ]
    }
   ],
   "source": [
    "import pandas as pd\n",
    "\n",
    "# Cargar los datasets\n",
    "df_no_crypto = pd.read_csv('model_crypto_no_data.csv', usecols=['Title'])  # Cambia 'texto' por el nombre real de la columna\n",
    "df_crypto = pd.read_csv('model_crypto_data.csv', usecols=['title'])  # Cambia 'texto' por el nombre real de la columna\n",
    "\n",
    "# Etiquetar los datos\n",
    "df_no_crypto['label'] = 0\n",
    "df_crypto['label'] = 1\n",
    "\n",
    "# Renombrar la columna de texto en ambos datasets para que tengan el mismo nombre\n",
    "df_no_crypto.rename(columns={'Title': 'text'}, inplace=True)\n",
    "df_crypto.rename(columns={'title': 'text'}, inplace=True)\n",
    "\n",
    "# Combinar los dos datasets en uno solo\n",
    "df = pd.concat([df_no_crypto, df_crypto])\n",
    "\n",
    "# Manejar valores NaN: eliminar filas con NaN o rellenarlas con una cadena vacía\n",
    "df.dropna(subset=['text'], inplace=True)\n",
    "\n",
    "# Verificar que los datos estén combinados correctamente\n",
    "print(df.head())\n"
   ]
  },
  {
   "cell_type": "markdown",
   "metadata": {},
   "source": [
    "## TRAIN & RESULTS"
   ]
  },
  {
   "cell_type": "code",
   "execution_count": 19,
   "metadata": {},
   "outputs": [
    {
     "name": "stdout",
     "output_type": "stream",
     "text": [
      "Accuracy: 0.9737965260545905\n",
      "              precision    recall  f1-score   support\n",
      "\n",
      "           0       0.99      0.97      0.98      7107\n",
      "           1       0.94      0.97      0.96      2968\n",
      "\n",
      "    accuracy                           0.97     10075\n",
      "   macro avg       0.96      0.97      0.97     10075\n",
      "weighted avg       0.97      0.97      0.97     10075\n",
      "\n",
      "[[6926  181]\n",
      " [  83 2885]]\n",
      "Predicción: Relacionado con criptomonedas\n"
     ]
    }
   ],
   "source": [
    "from sklearn.feature_extraction.text import TfidfVectorizer\n",
    "from sklearn.model_selection import train_test_split\n",
    "from sklearn.naive_bayes import MultinomialNB\n",
    "from sklearn.metrics import accuracy_score, classification_report, confusion_matrix\n",
    "\n",
    "# Vectorización del texto usando TF-IDF\n",
    "vectorizer = TfidfVectorizer(stop_words='english', max_features=1000)\n",
    "X_vectorized = vectorizer.fit_transform(df['text'])\n",
    "\n",
    "# Separar las características (X) y la etiqueta (y)\n",
    "X = X_vectorized\n",
    "y = df['label']\n",
    "\n",
    "# División de los datos en conjuntos de entrenamiento y prueba\n",
    "X_train, X_test, y_train, y_test = train_test_split(X, y, test_size=0.2, random_state=42)\n",
    "\n",
    "# Entrenar el modelo Naive Bayes\n",
    "model = MultinomialNB()\n",
    "model.fit(X_train, y_train)\n",
    "\n",
    "# Hacer predicciones en el conjunto de prueba\n",
    "y_pred = model.predict(X_test)\n",
    "\n",
    "# Imprimir la precisión y otras métricas de evaluación\n",
    "print(f\"Accuracy: {accuracy_score(y_test, y_pred)}\")\n",
    "print(classification_report(y_test, y_pred))\n",
    "\n",
    "# Mostrar la matriz de confusión\n",
    "print(confusion_matrix(y_test, y_pred))\n",
    "# Prueba con un nuevo texto\n",
    "new_text = [\"Amazing new Altcoin going up!\"]\n",
    "new_text_tfidf = vectorizer.transform(new_text)\n",
    "prediction = model.predict(new_text_tfidf)\n",
    "print(\"Predicción:\", \"Relacionado con criptomonedas\" if prediction[0] == 1 else \"No relacionado con criptomonedas\")\n"
   ]
  },
  {
   "cell_type": "markdown",
   "metadata": {},
   "source": [
    "## TEST CON DATA"
   ]
  },
  {
   "cell_type": "code",
   "execution_count": 26,
   "metadata": {},
   "outputs": [
    {
     "name": "stdout",
     "output_type": "stream",
     "text": [
      "Predicciones guardadas en el archivo predicciones.csv\n"
     ]
    }
   ],
   "source": [
    "import pandas as pd\n",
    "\n",
    "# Cargar el nuevo dataset\n",
    "new_texts_tfidf = pd.read_csv('test_model_P1.csv', usecols=['cleaned_text'])  # Cambia 'cleaned_text' por el nombre real de la columna de texto\n",
    "\n",
    "# Vectorizar el texto del nuevo dataset usando el vectorizador entrenado\n",
    "new_texts_vectorized = vectorizer.transform(new_texts_tfidf['cleaned_text'])\n",
    "\n",
    "# Hacer predicciones en el nuevo dataset\n",
    "new_predictions = model.predict(new_texts_vectorized)\n",
    "\n",
    "# Añadir las predicciones al DataFrame original\n",
    "new_texts_tfidf['prediction'] = new_predictions\n",
    "new_texts_tfidf['prediction_label'] = new_texts_tfidf['prediction'].apply(lambda x: \"Relacionado con criptomonedas\" if x == 1 else \"No relacionado con criptomonedas\")\n",
    "\n",
    "# Guardar el DataFrame con las predicciones en un archivo CSV\n",
    "output_file = 'predicciones.csv'\n",
    "new_texts_tfidf.to_csv(output_file, index=False)\n",
    "\n",
    "print(f\"Predicciones guardadas en el archivo {output_file}\")\n"
   ]
  },
  {
   "cell_type": "markdown",
   "metadata": {},
   "source": [
    "### TESTS"
   ]
  },
  {
   "cell_type": "code",
   "execution_count": 15,
   "metadata": {},
   "outputs": [
    {
     "name": "stdout",
     "output_type": "stream",
     "text": [
      "Accuracy: 0.9935483870967742\n",
      "              precision    recall  f1-score   support\n",
      "\n",
      "           0       0.99      1.00      1.00      7107\n",
      "           1       1.00      0.98      0.99      2968\n",
      "\n",
      "    accuracy                           0.99     10075\n",
      "   macro avg       1.00      0.99      0.99     10075\n",
      "weighted avg       0.99      0.99      0.99     10075\n",
      "\n",
      "Predicción: No relacionado con criptomonedas\n"
     ]
    }
   ],
   "source": [
    "import pandas as pd\n",
    "from sklearn.model_selection import train_test_split\n",
    "from sklearn.feature_extraction.text import TfidfVectorizer\n",
    "from sklearn.linear_model import LogisticRegression\n",
    "from sklearn.metrics import classification_report, accuracy_score\n",
    "\n",
    "\n",
    "# División de datos en conjuntos de entrenamiento y prueba\n",
    "X_train, X_test, y_train, y_test = train_test_split(df['text'], df['label'], test_size=0.2, random_state=42)\n",
    "\n",
    "# Vectorización de textos\n",
    "vectorizer = TfidfVectorizer()\n",
    "X_train_tfidf = vectorizer.fit_transform(X_train)\n",
    "X_test_tfidf = vectorizer.transform(X_test)\n",
    "\n",
    "# Entrenamiento del modelo de clasificación\n",
    "model = LogisticRegression()\n",
    "model.fit(X_train_tfidf, y_train)\n",
    "\n",
    "# Predicción y evaluación\n",
    "y_pred = model.predict(X_test_tfidf)\n",
    "print(\"Accuracy:\", accuracy_score(y_test, y_pred))\n",
    "print(classification_report(y_test, y_pred))\n",
    "\n",
    "# Prueba con un nuevo texto\n",
    "new_text = [\"I am investing in Dogecoin\"]\n",
    "new_text_tfidf = vectorizer.transform(new_text)\n",
    "prediction = model.predict(new_text_tfidf)\n",
    "print(\"Predicción:\", \"Relacionado con criptomonedas\" if prediction[0] == 1 else \"No relacionado con criptomonedas\")\n"
   ]
  },
  {
   "cell_type": "code",
   "execution_count": 4,
   "metadata": {},
   "outputs": [
    {
     "name": "stdout",
     "output_type": "stream",
     "text": [
      "Accuracy: 0.99712158808933\n",
      "              precision    recall  f1-score   support\n",
      "\n",
      "           0       1.00      1.00      1.00      7107\n",
      "           1       1.00      0.99      1.00      2968\n",
      "\n",
      "    accuracy                           1.00     10075\n",
      "   macro avg       1.00      1.00      1.00     10075\n",
      "weighted avg       1.00      1.00      1.00     10075\n",
      "\n",
      "Predicción: No relacionado con criptomonedas\n"
     ]
    }
   ],
   "source": [
    "import pandas as pd\n",
    "from sklearn.model_selection import train_test_split\n",
    "from sklearn.feature_extraction.text import TfidfVectorizer\n",
    "from sklearn.svm import SVC\n",
    "from sklearn.metrics import classification_report, accuracy_score\n",
    "\n",
    "\n",
    "# Asegurarse de que X_train y X_test son listas de texto\n",
    "X_train, X_test, y_train, y_test = train_test_split(df['text'].tolist(), df['label'], test_size=0.2, random_state=42)\n",
    "\n",
    "# Vectorización de textos\n",
    "vectorizer = TfidfVectorizer()\n",
    "X_train_tfidf = vectorizer.fit_transform(X_train)\n",
    "X_test_tfidf = vectorizer.transform(X_test)\n",
    "\n",
    "# Entrenamiento del modelo SVM\n",
    "model = SVC(kernel='linear')  # Utilizando el kernel lineal\n",
    "model.fit(X_train_tfidf, y_train)\n",
    "\n",
    "# Predicción y evaluación\n",
    "y_pred = model.predict(X_test_tfidf)\n",
    "print(\"Accuracy:\", accuracy_score(y_test, y_pred))\n",
    "print(classification_report(y_test, y_pred))\n",
    "\n",
    "# Prueba con un nuevo texto\n",
    "new_text = [\"Investing in cryptos might not be as OverPowered\"]\n",
    "new_text_tfidf = vectorizer.transform(new_text)\n",
    "prediction = model.predict(new_text_tfidf)\n",
    "print(\"Predicción:\", \"Relacionado con criptomonedas\" if prediction[0] == 1 else \"No relacionado con criptomonedas\")"
   ]
  },
  {
   "cell_type": "code",
   "execution_count": 6,
   "metadata": {},
   "outputs": [
    {
     "name": "stdout",
     "output_type": "stream",
     "text": [
      "Accuracy: 0.9979156327543425\n",
      "              precision    recall  f1-score   support\n",
      "\n",
      "           0       1.00      1.00      1.00      7107\n",
      "           1       1.00      0.99      1.00      2968\n",
      "\n",
      "    accuracy                           1.00     10075\n",
      "   macro avg       1.00      1.00      1.00     10075\n",
      "weighted avg       1.00      1.00      1.00     10075\n",
      "\n",
      "Predicción: No relacionado con criptomonedas\n"
     ]
    }
   ],
   "source": [
    "import pandas as pd\n",
    "from sklearn.model_selection import train_test_split\n",
    "from sklearn.feature_extraction.text import TfidfVectorizer\n",
    "from sklearn.ensemble import RandomForestClassifier\n",
    "from sklearn.metrics import classification_report, accuracy_score\n",
    "\n",
    "# Entrenamiento del modelo Random Forest\n",
    "model = RandomForestClassifier(n_estimators=100, random_state=42)\n",
    "model.fit(X_train_tfidf, y_train)\n",
    "\n",
    "# Predicción y evaluación\n",
    "y_pred = model.predict(X_test_tfidf)\n",
    "print(\"Accuracy:\", accuracy_score(y_test, y_pred))\n",
    "print(classification_report(y_test, y_pred))\n",
    "\n",
    "# Prueba con un nuevo texto\n",
    "new_text = [\"I am investing in Dogecoin\"]\n",
    "new_text_tfidf = vectorizer.transform(new_text)\n",
    "prediction = model.predict(new_text_tfidf)\n",
    "print(\"Predicción:\", \"Relacionado con criptomonedas\" if prediction[0] == 1 else \"No relacionado con criptomonedas\")"
   ]
  }
 ],
 "metadata": {
  "kernelspec": {
   "display_name": "Python 3",
   "language": "python",
   "name": "python3"
  },
  "language_info": {
   "codemirror_mode": {
    "name": "ipython",
    "version": 3
   },
   "file_extension": ".py",
   "mimetype": "text/x-python",
   "name": "python",
   "nbconvert_exporter": "python",
   "pygments_lexer": "ipython3",
   "version": "3.12.5"
  }
 },
 "nbformat": 4,
 "nbformat_minor": 2
}
